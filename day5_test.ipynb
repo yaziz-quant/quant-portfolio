{
 "cells": [
  {
   "cell_type": "code",
   "execution_count": null,
   "id": "26bde0ab",
   "metadata": {},
   "outputs": [],
   "source": []
  }
 ],
 "metadata": {
  "kernelspec": {
   "display_name": "Python 3",
   "language": "python",
   "name": "python3"
  },
  "language_info": {
   "name": "python",
   "version": "3.13.3"
  }
 },
 "nbformat": 4,
 "nbformat_minor": 5
}
