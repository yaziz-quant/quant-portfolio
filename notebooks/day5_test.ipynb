{
 "cells": [
  {
   "cell_type": "code",
   "execution_count": 1,
   "id": "26bde0ab",
   "metadata": {},
   "outputs": [
    {
     "name": "stdout",
     "output_type": "stream",
     "text": [
      "Today's pratice notebook\n",
      "Date; 2025-09-23\n"
     ]
    }
   ],
   "source": [
    "import datetime\n",
    "print(\"Today's pratice notebook\")\n",
    "print(\"Date;\", datetime.date.today())"
   ]
  }
 ],
 "metadata": {
  "kernelspec": {
   "display_name": "Python 3",
   "language": "python",
   "name": "python3"
  },
  "language_info": {
   "codemirror_mode": {
    "name": "ipython",
    "version": 3
   },
   "file_extension": ".py",
   "mimetype": "text/x-python",
   "name": "python",
   "nbconvert_exporter": "python",
   "pygments_lexer": "ipython3",
   "version": "3.13.3"
  }
 },
 "nbformat": 4,
 "nbformat_minor": 5
}
